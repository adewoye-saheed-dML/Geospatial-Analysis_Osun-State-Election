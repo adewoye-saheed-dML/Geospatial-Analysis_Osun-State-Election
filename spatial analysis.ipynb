{
 "cells": [
  {
   "cell_type": "markdown",
   "id": "dddb1394-e755-42c1-83d3-4d1e607e91f0",
   "metadata": {},
   "source": [
    "#  Outlier Detection: Osun State 2023 Presidential Election Data Using Geospatial Analysis\n"
   ]
  },
  {
   "cell_type": "markdown",
   "id": "30feb5d0-93b0-4a00-a74a-a70a42af5190",
   "metadata": {},
   "source": [
    "- #### Dataset Preparation"
   ]
  },
  {
   "cell_type": "code",
   "execution_count": 1,
   "id": "4972f846-5210-4662-88cf-8de2b6f6624f",
   "metadata": {},
   "outputs": [],
   "source": [
    "# import neccessary libraries\n",
    "import numpy as np\n",
    "import pandas as pd\n",
    "import matplotlib.pyplot as plt\n",
    "import seaborn as sns\n",
    "from scipy.spatial import distance_matrix\n",
    "import geopandas as gpd\n",
    "from IPython.display import display, HTML\n",
    "import contextily as ctx"
   ]
  },
  {
   "cell_type": "code",
   "execution_count": 2,
   "id": "8d88b0ab-b1b9-40ef-b99b-67d9c863b3ea",
   "metadata": {},
   "outputs": [
    {
     "data": {
      "text/html": [
       "<div>\n",
       "<style scoped>\n",
       "    .dataframe tbody tr th:only-of-type {\n",
       "        vertical-align: middle;\n",
       "    }\n",
       "\n",
       "    .dataframe tbody tr th {\n",
       "        vertical-align: top;\n",
       "    }\n",
       "\n",
       "    .dataframe thead th {\n",
       "        text-align: right;\n",
       "    }\n",
       "</style>\n",
       "<table border=\"1\" class=\"dataframe\">\n",
       "  <thead>\n",
       "    <tr style=\"text-align: right;\">\n",
       "      <th></th>\n",
       "      <th>State</th>\n",
       "      <th>LGA</th>\n",
       "      <th>Ward</th>\n",
       "      <th>PU-Code</th>\n",
       "      <th>PU-Name</th>\n",
       "      <th>Accredited_Voters</th>\n",
       "      <th>Registered_Voters</th>\n",
       "      <th>Results_Found</th>\n",
       "      <th>Transcription_Count</th>\n",
       "      <th>Result_Sheet_Stamped</th>\n",
       "      <th>...</th>\n",
       "      <th>APC</th>\n",
       "      <th>LP</th>\n",
       "      <th>PDP</th>\n",
       "      <th>NNPP</th>\n",
       "      <th>Results_File</th>\n",
       "      <th>ward_name</th>\n",
       "      <th>local_government_name</th>\n",
       "      <th>state_name</th>\n",
       "      <th>location.latitude</th>\n",
       "      <th>location.longitude</th>\n",
       "    </tr>\n",
       "  </thead>\n",
       "  <tbody>\n",
       "    <tr>\n",
       "      <th>0</th>\n",
       "      <td>OSUN</td>\n",
       "      <td>ATAKUMOSA EAST</td>\n",
       "      <td>IWARA</td>\n",
       "      <td>29-01-01-001</td>\n",
       "      <td>TOWN HALL IWARA</td>\n",
       "      <td>181</td>\n",
       "      <td>942</td>\n",
       "      <td>True</td>\n",
       "      <td>-1</td>\n",
       "      <td>False</td>\n",
       "      <td>...</td>\n",
       "      <td>44</td>\n",
       "      <td>273</td>\n",
       "      <td>0</td>\n",
       "      <td>0</td>\n",
       "      <td>https://inec-cvr-cache.s3.eu-west-1.amazonaws....</td>\n",
       "      <td>IWARA</td>\n",
       "      <td>ATAKUMOSA EAST</td>\n",
       "      <td>OSUN</td>\n",
       "      <td>7.466182</td>\n",
       "      <td>4.678075</td>\n",
       "    </tr>\n",
       "    <tr>\n",
       "      <th>1</th>\n",
       "      <td>OSUN</td>\n",
       "      <td>ATAKUMOSA EAST</td>\n",
       "      <td>IWARA</td>\n",
       "      <td>29-01-01-003</td>\n",
       "      <td>L.A. SCHOOL, IWIKUN</td>\n",
       "      <td>245</td>\n",
       "      <td>881</td>\n",
       "      <td>True</td>\n",
       "      <td>-1</td>\n",
       "      <td>False</td>\n",
       "      <td>...</td>\n",
       "      <td>40</td>\n",
       "      <td>11</td>\n",
       "      <td>175</td>\n",
       "      <td>1</td>\n",
       "      <td>https://inec-cvr-cache.s3.eu-west-1.amazonaws....</td>\n",
       "      <td>IWARA</td>\n",
       "      <td>ATAKUMOSA EAST</td>\n",
       "      <td>OSUN</td>\n",
       "      <td>7.586975</td>\n",
       "      <td>4.629450</td>\n",
       "    </tr>\n",
       "    <tr>\n",
       "      <th>2</th>\n",
       "      <td>OSUN</td>\n",
       "      <td>ATAKUMOSA EAST</td>\n",
       "      <td>IWARA</td>\n",
       "      <td>29-01-01-004</td>\n",
       "      <td>METHODIST PRY. SCHOOL, AYETORO</td>\n",
       "      <td>117</td>\n",
       "      <td>308</td>\n",
       "      <td>True</td>\n",
       "      <td>-1</td>\n",
       "      <td>False</td>\n",
       "      <td>...</td>\n",
       "      <td>14</td>\n",
       "      <td>3</td>\n",
       "      <td>99</td>\n",
       "      <td>1</td>\n",
       "      <td>https://inec-cvr-cache.s3.eu-west-1.amazonaws....</td>\n",
       "      <td>IWARA</td>\n",
       "      <td>ATAKUMOSA EAST</td>\n",
       "      <td>OSUN</td>\n",
       "      <td>7.846332</td>\n",
       "      <td>4.487902</td>\n",
       "    </tr>\n",
       "    <tr>\n",
       "      <th>3</th>\n",
       "      <td>OSUN</td>\n",
       "      <td>ATAKUMOSA EAST</td>\n",
       "      <td>IWARA</td>\n",
       "      <td>29-01-01-007</td>\n",
       "      <td>OPEN SPACE ODO-IWARA</td>\n",
       "      <td>187</td>\n",
       "      <td>538</td>\n",
       "      <td>True</td>\n",
       "      <td>-1</td>\n",
       "      <td>False</td>\n",
       "      <td>...</td>\n",
       "      <td>25</td>\n",
       "      <td>4</td>\n",
       "      <td>155</td>\n",
       "      <td>0</td>\n",
       "      <td>https://docs.inecelectionresults.net/elections...</td>\n",
       "      <td>IWARA</td>\n",
       "      <td>ATAKUMOSA EAST</td>\n",
       "      <td>OSUN</td>\n",
       "      <td>7.540318</td>\n",
       "      <td>4.825199</td>\n",
       "    </tr>\n",
       "    <tr>\n",
       "      <th>4</th>\n",
       "      <td>OSUN</td>\n",
       "      <td>ATAKUMOSA EAST</td>\n",
       "      <td>IGANGAN</td>\n",
       "      <td>29-01-02-001</td>\n",
       "      <td>N.U.D PRY. SCHOL, IGANGAN</td>\n",
       "      <td>187</td>\n",
       "      <td>558</td>\n",
       "      <td>True</td>\n",
       "      <td>-1</td>\n",
       "      <td>False</td>\n",
       "      <td>...</td>\n",
       "      <td>22</td>\n",
       "      <td>0</td>\n",
       "      <td>161</td>\n",
       "      <td>0</td>\n",
       "      <td>https://docs.inecelectionresults.net/elections...</td>\n",
       "      <td>IGANGAN</td>\n",
       "      <td>ATAKUMOSA EAST</td>\n",
       "      <td>OSUN</td>\n",
       "      <td>7.546745</td>\n",
       "      <td>3.788141</td>\n",
       "    </tr>\n",
       "  </tbody>\n",
       "</table>\n",
       "<p>5 rows × 24 columns</p>\n",
       "</div>"
      ],
      "text/plain": [
       "  State             LGA     Ward       PU-Code  \\\n",
       "0  OSUN  ATAKUMOSA EAST    IWARA  29-01-01-001   \n",
       "1  OSUN  ATAKUMOSA EAST    IWARA  29-01-01-003   \n",
       "2  OSUN  ATAKUMOSA EAST    IWARA  29-01-01-004   \n",
       "3  OSUN  ATAKUMOSA EAST    IWARA  29-01-01-007   \n",
       "4  OSUN  ATAKUMOSA EAST  IGANGAN  29-01-02-001   \n",
       "\n",
       "                          PU-Name  Accredited_Voters  Registered_Voters  \\\n",
       "0                 TOWN HALL IWARA                181                942   \n",
       "1             L.A. SCHOOL, IWIKUN                245                881   \n",
       "2  METHODIST PRY. SCHOOL, AYETORO                117                308   \n",
       "3            OPEN SPACE ODO-IWARA                187                538   \n",
       "4       N.U.D PRY. SCHOL, IGANGAN                187                558   \n",
       "\n",
       "   Results_Found  Transcription_Count  Result_Sheet_Stamped  ...  APC   LP  \\\n",
       "0           True                   -1                 False  ...   44  273   \n",
       "1           True                   -1                 False  ...   40   11   \n",
       "2           True                   -1                 False  ...   14    3   \n",
       "3           True                   -1                 False  ...   25    4   \n",
       "4           True                   -1                 False  ...   22    0   \n",
       "\n",
       "   PDP NNPP                                       Results_File  ward_name  \\\n",
       "0    0    0  https://inec-cvr-cache.s3.eu-west-1.amazonaws....      IWARA   \n",
       "1  175    1  https://inec-cvr-cache.s3.eu-west-1.amazonaws....      IWARA   \n",
       "2   99    1  https://inec-cvr-cache.s3.eu-west-1.amazonaws....      IWARA   \n",
       "3  155    0  https://docs.inecelectionresults.net/elections...      IWARA   \n",
       "4  161    0  https://docs.inecelectionresults.net/elections...    IGANGAN   \n",
       "\n",
       "   local_government_name  state_name location.latitude location.longitude  \n",
       "0         ATAKUMOSA EAST        OSUN          7.466182           4.678075  \n",
       "1         ATAKUMOSA EAST        OSUN          7.586975           4.629450  \n",
       "2         ATAKUMOSA EAST        OSUN          7.846332           4.487902  \n",
       "3         ATAKUMOSA EAST        OSUN          7.540318           4.825199  \n",
       "4         ATAKUMOSA EAST        OSUN          7.546745           3.788141  \n",
       "\n",
       "[5 rows x 24 columns]"
      ]
     },
     "execution_count": 2,
     "metadata": {},
     "output_type": "execute_result"
    }
   ],
   "source": [
    "# merge the seperate two files\n",
    "\n",
    "df1=pd.read_csv('C:/Users/WOYES/Desktop/HNG/OSUN_crosschecked.csv')   # contains information about polling units without their latitude and longitude\n",
    "df2=pd.read_csv('C:/Users/WOYES/Desktop/HNG/latlong.csv')             # contains information about the latitude and longitude of each polling unit\n",
    "\n",
    "df = df1.merge(df2, on='PU-Name', how='inner')\n",
    "df.head()"
   ]
  },
  {
   "cell_type": "code",
   "execution_count": 3,
   "id": "d5eaa527-dbaa-47de-a1eb-e8b1ed661fa8",
   "metadata": {},
   "outputs": [],
   "source": [
    "# rename location.latitude and location.longitude\n",
    "df.rename(columns={'location.latitude':'latitude','location.longitude':'longitude'}, inplace=True)"
   ]
  },
  {
   "cell_type": "code",
   "execution_count": 4,
   "id": "b54cc4cf-54f9-41a8-b305-e5aa9a1e0a09",
   "metadata": {},
   "outputs": [
    {
     "data": {
      "text/plain": [
       "Index(['State', 'LGA', 'Ward', 'PU-Code', 'PU-Name', 'Accredited_Voters',\n",
       "       'Registered_Voters', 'Results_Found', 'Transcription_Count',\n",
       "       'Result_Sheet_Stamped', 'Result_Sheet_Corrected',\n",
       "       'Result_Sheet_Invalid', 'Result_Sheet_Unclear', 'Result_Sheet_Unsigned',\n",
       "       'APC', 'LP', 'PDP', 'NNPP', 'Results_File', 'ward_name',\n",
       "       'local_government_name', 'state_name', 'latitude', 'longitude'],\n",
       "      dtype='object')"
      ]
     },
     "execution_count": 4,
     "metadata": {},
     "output_type": "execute_result"
    }
   ],
   "source": [
    "# check the total features in the dataset\n",
    "df.columns"
   ]
  },
  {
   "cell_type": "code",
   "execution_count": 5,
   "id": "12bb0c97-3a75-489c-9987-56a6daca4d51",
   "metadata": {},
   "outputs": [
    {
     "data": {
      "text/plain": [
       "(2281, 24)"
      ]
     },
     "execution_count": 5,
     "metadata": {},
     "output_type": "execute_result"
    }
   ],
   "source": [
    "df.shape"
   ]
  },
  {
   "cell_type": "markdown",
   "id": "0ce13150-b071-4646-89b5-05f8d33ce15d",
   "metadata": {},
   "source": [
    "Let's select some valuable features from the dataset for our analysis"
   ]
  },
  {
   "cell_type": "code",
   "execution_count": 6,
   "id": "0c0a9e6e-7d2c-4af1-9037-69bf82ec6c0c",
   "metadata": {},
   "outputs": [
    {
     "data": {
      "text/html": [
       "<div>\n",
       "<style scoped>\n",
       "    .dataframe tbody tr th:only-of-type {\n",
       "        vertical-align: middle;\n",
       "    }\n",
       "\n",
       "    .dataframe tbody tr th {\n",
       "        vertical-align: top;\n",
       "    }\n",
       "\n",
       "    .dataframe thead th {\n",
       "        text-align: right;\n",
       "    }\n",
       "</style>\n",
       "<table border=\"1\" class=\"dataframe\">\n",
       "  <thead>\n",
       "    <tr style=\"text-align: right;\">\n",
       "      <th></th>\n",
       "      <th>State</th>\n",
       "      <th>LGA</th>\n",
       "      <th>Ward</th>\n",
       "      <th>PU-Code</th>\n",
       "      <th>PU-Name</th>\n",
       "      <th>APC</th>\n",
       "      <th>LP</th>\n",
       "      <th>PDP</th>\n",
       "      <th>NNPP</th>\n",
       "      <th>latitude</th>\n",
       "      <th>longitude</th>\n",
       "    </tr>\n",
       "  </thead>\n",
       "  <tbody>\n",
       "    <tr>\n",
       "      <th>0</th>\n",
       "      <td>OSUN</td>\n",
       "      <td>ATAKUMOSA EAST</td>\n",
       "      <td>IWARA</td>\n",
       "      <td>29-01-01-001</td>\n",
       "      <td>TOWN HALL IWARA</td>\n",
       "      <td>44</td>\n",
       "      <td>273</td>\n",
       "      <td>0</td>\n",
       "      <td>0</td>\n",
       "      <td>7.466182</td>\n",
       "      <td>4.678075</td>\n",
       "    </tr>\n",
       "    <tr>\n",
       "      <th>1</th>\n",
       "      <td>OSUN</td>\n",
       "      <td>ATAKUMOSA EAST</td>\n",
       "      <td>IWARA</td>\n",
       "      <td>29-01-01-003</td>\n",
       "      <td>L.A. SCHOOL, IWIKUN</td>\n",
       "      <td>40</td>\n",
       "      <td>11</td>\n",
       "      <td>175</td>\n",
       "      <td>1</td>\n",
       "      <td>7.586975</td>\n",
       "      <td>4.629450</td>\n",
       "    </tr>\n",
       "    <tr>\n",
       "      <th>2</th>\n",
       "      <td>OSUN</td>\n",
       "      <td>ATAKUMOSA EAST</td>\n",
       "      <td>IWARA</td>\n",
       "      <td>29-01-01-004</td>\n",
       "      <td>METHODIST PRY. SCHOOL, AYETORO</td>\n",
       "      <td>14</td>\n",
       "      <td>3</td>\n",
       "      <td>99</td>\n",
       "      <td>1</td>\n",
       "      <td>7.846332</td>\n",
       "      <td>4.487902</td>\n",
       "    </tr>\n",
       "    <tr>\n",
       "      <th>3</th>\n",
       "      <td>OSUN</td>\n",
       "      <td>ATAKUMOSA EAST</td>\n",
       "      <td>IWARA</td>\n",
       "      <td>29-01-01-007</td>\n",
       "      <td>OPEN SPACE ODO-IWARA</td>\n",
       "      <td>25</td>\n",
       "      <td>4</td>\n",
       "      <td>155</td>\n",
       "      <td>0</td>\n",
       "      <td>7.540318</td>\n",
       "      <td>4.825199</td>\n",
       "    </tr>\n",
       "    <tr>\n",
       "      <th>4</th>\n",
       "      <td>OSUN</td>\n",
       "      <td>ATAKUMOSA EAST</td>\n",
       "      <td>IGANGAN</td>\n",
       "      <td>29-01-02-001</td>\n",
       "      <td>N.U.D PRY. SCHOL, IGANGAN</td>\n",
       "      <td>22</td>\n",
       "      <td>0</td>\n",
       "      <td>161</td>\n",
       "      <td>0</td>\n",
       "      <td>7.546745</td>\n",
       "      <td>3.788141</td>\n",
       "    </tr>\n",
       "  </tbody>\n",
       "</table>\n",
       "</div>"
      ],
      "text/plain": [
       "  State             LGA     Ward       PU-Code  \\\n",
       "0  OSUN  ATAKUMOSA EAST    IWARA  29-01-01-001   \n",
       "1  OSUN  ATAKUMOSA EAST    IWARA  29-01-01-003   \n",
       "2  OSUN  ATAKUMOSA EAST    IWARA  29-01-01-004   \n",
       "3  OSUN  ATAKUMOSA EAST    IWARA  29-01-01-007   \n",
       "4  OSUN  ATAKUMOSA EAST  IGANGAN  29-01-02-001   \n",
       "\n",
       "                          PU-Name  APC   LP  PDP  NNPP  latitude  longitude  \n",
       "0                 TOWN HALL IWARA   44  273    0     0  7.466182   4.678075  \n",
       "1             L.A. SCHOOL, IWIKUN   40   11  175     1  7.586975   4.629450  \n",
       "2  METHODIST PRY. SCHOOL, AYETORO   14    3   99     1  7.846332   4.487902  \n",
       "3            OPEN SPACE ODO-IWARA   25    4  155     0  7.540318   4.825199  \n",
       "4       N.U.D PRY. SCHOL, IGANGAN   22    0  161     0  7.546745   3.788141  "
      ]
     },
     "execution_count": 6,
     "metadata": {},
     "output_type": "execute_result"
    }
   ],
   "source": [
    "# subset the dataset\n",
    "data = df.loc[:, ['State','LGA','Ward','PU-Code','PU-Name','APC','LP','PDP','NNPP','latitude','longitude']].copy()\n",
    "data.head()"
   ]
  },
  {
   "cell_type": "code",
   "execution_count": 7,
   "id": "84f787f0-899b-4046-8cec-56d5acfbfd02",
   "metadata": {},
   "outputs": [
    {
     "data": {
      "text/plain": [
       "State         0.000000\n",
       "LGA           0.000000\n",
       "Ward          0.000000\n",
       "PU-Code       0.000000\n",
       "PU-Name       0.000000\n",
       "APC           0.000000\n",
       "LP            0.000000\n",
       "PDP           0.000000\n",
       "NNPP          0.000000\n",
       "latitude     11.617712\n",
       "longitude    11.617712\n",
       "dtype: float64"
      ]
     },
     "execution_count": 7,
     "metadata": {},
     "output_type": "execute_result"
    }
   ],
   "source": [
    "# check for percentages of null values in each columns\n",
    "(data.isnull().sum()/len(data)*100)"
   ]
  },
  {
   "cell_type": "markdown",
   "id": "202af505-5818-4360-ad3a-e3ed856273db",
   "metadata": {},
   "source": [
    "The percentage of null values in both latitude and longitude column is almost 12. Let's simply drop those columns "
   ]
  },
  {
   "cell_type": "code",
   "execution_count": 8,
   "id": "14e6caa1-9630-45f1-80c9-7ceb86eb21ac",
   "metadata": {},
   "outputs": [],
   "source": [
    "# drop null values \n",
    "data.dropna(subset=['latitude'], inplace=True)"
   ]
  },
  {
   "cell_type": "code",
   "execution_count": 9,
   "id": "cb185aaa-75ad-4271-842a-13c57c3e15b2",
   "metadata": {},
   "outputs": [
    {
     "data": {
      "text/plain": [
       "(2016, 11)"
      ]
     },
     "execution_count": 9,
     "metadata": {},
     "output_type": "execute_result"
    }
   ],
   "source": [
    "# new dataset shape\n",
    "data.shape"
   ]
  },
  {
   "cell_type": "code",
   "execution_count": 10,
   "id": "2c437d86-470c-402d-9bc7-576db38ea43a",
   "metadata": {
    "scrolled": true
   },
   "outputs": [
    {
     "data": {
      "text/plain": [
       "State        0\n",
       "LGA          0\n",
       "Ward         0\n",
       "PU-Code      0\n",
       "PU-Name      0\n",
       "APC          0\n",
       "LP           0\n",
       "PDP          0\n",
       "NNPP         0\n",
       "latitude     0\n",
       "longitude    0\n",
       "dtype: int64"
      ]
     },
     "execution_count": 10,
     "metadata": {},
     "output_type": "execute_result"
    }
   ],
   "source": [
    "# recheck for null values\n",
    "data.isnull().sum()"
   ]
  },
  {
   "cell_type": "markdown",
   "id": "8faf2369-23c3-4a05-9f9f-aa5e4dd5d357",
   "metadata": {},
   "source": [
    "Our data is now free of any null values"
   ]
  },
  {
   "cell_type": "markdown",
   "id": "d32a1437-0cb7-4dfc-aaf8-6e2f77d7b283",
   "metadata": {},
   "source": [
    "- #### Neighbour Identification"
   ]
  },
  {
   "cell_type": "markdown",
   "id": "cf02c83c-415a-4a61-befb-717529a5be84",
   "metadata": {},
   "source": [
    "We will use the distance_matrix function from scipy.spatial to compute the distances between all pairs of polling units."
   ]
  },
  {
   "cell_type": "code",
   "execution_count": 11,
   "id": "a72fee83-9625-4a85-8de0-d9e303c2758b",
   "metadata": {},
   "outputs": [
    {
     "data": {
      "text/plain": [
       "array([[0.        , 0.13021195, 0.42506374, ..., 0.34232331, 0.34232331,\n",
       "        0.34232331],\n",
       "       [0.13021195, 0.        , 0.29546894, ..., 0.21217341, 0.21217341,\n",
       "        0.21217341],\n",
       "       [0.42506374, 0.29546894, 0.        , ..., 0.091993  , 0.091993  ,\n",
       "        0.091993  ],\n",
       "       ...,\n",
       "       [0.34232331, 0.21217341, 0.091993  , ..., 0.        , 0.        ,\n",
       "        0.        ],\n",
       "       [0.34232331, 0.21217341, 0.091993  , ..., 0.        , 0.        ,\n",
       "        0.        ],\n",
       "       [0.34232331, 0.21217341, 0.091993  , ..., 0.        , 0.        ,\n",
       "        0.        ]])"
      ]
     },
     "execution_count": 11,
     "metadata": {},
     "output_type": "execute_result"
    }
   ],
   "source": [
    "# Reset index to ensure sequential indexing\n",
    "data.reset_index(drop=True, inplace=True)\n",
    "\n",
    "# Extract latitude and longitude columns\n",
    "lat_lon = data[['latitude', 'longitude']].values\n",
    "\n",
    "# Calculate the distance matrix between all polling units\n",
    "dist_matrix = distance_matrix(lat_lon, lat_lon)\n",
    "dist_matrix"
   ]
  },
  {
   "cell_type": "markdown",
   "id": "fbbb2da4-9e17-4ee4-a366-042cb4a7f452",
   "metadata": {},
   "source": [
    "- #### Outlier Score Calculation"
   ]
  },
  {
   "cell_type": "markdown",
   "id": "36321927-c7e6-4d30-aad5-75680b1f2391",
   "metadata": {},
   "source": [
    "For each party (APC, LP, PDP, NNPP), we would calculate their outlier score as the absolute difference between the votes at the current polling unit and the mean votes of its neighbours."
   ]
  },
  {
   "cell_type": "code",
   "execution_count": 12,
   "id": "1130027d-2c6c-456b-b75c-d5f99c078bd3",
   "metadata": {},
   "outputs": [
    {
     "data": {
      "text/html": [
       "<div>\n",
       "<style scoped>\n",
       "    .dataframe tbody tr th:only-of-type {\n",
       "        vertical-align: middle;\n",
       "    }\n",
       "\n",
       "    .dataframe tbody tr th {\n",
       "        vertical-align: top;\n",
       "    }\n",
       "\n",
       "    .dataframe thead th {\n",
       "        text-align: right;\n",
       "    }\n",
       "</style>\n",
       "<table border=\"1\" class=\"dataframe\">\n",
       "  <thead>\n",
       "    <tr style=\"text-align: right;\">\n",
       "      <th></th>\n",
       "      <th>PU-Name</th>\n",
       "      <th>Latitude</th>\n",
       "      <th>Longitude</th>\n",
       "      <th>APC_outlier</th>\n",
       "      <th>LP_outlier</th>\n",
       "      <th>PDP_outlier</th>\n",
       "      <th>NNPP_outlier</th>\n",
       "      <th>Neighbour_polls</th>\n",
       "    </tr>\n",
       "  </thead>\n",
       "  <tbody>\n",
       "    <tr>\n",
       "      <th>0</th>\n",
       "      <td>TOWN HALL IWARA</td>\n",
       "      <td>7.466182</td>\n",
       "      <td>4.678075</td>\n",
       "      <td>53.480877</td>\n",
       "      <td>266.240694</td>\n",
       "      <td>98.483427</td>\n",
       "      <td>0.458440</td>\n",
       "      <td>[L.A. SCHOOL, IWIKUN, METHODIST PRY. SCHOOL, A...</td>\n",
       "    </tr>\n",
       "    <tr>\n",
       "      <th>1</th>\n",
       "      <td>L.A. SCHOOL, IWIKUN</td>\n",
       "      <td>7.586975</td>\n",
       "      <td>4.629450</td>\n",
       "      <td>57.471698</td>\n",
       "      <td>4.108618</td>\n",
       "      <td>76.637940</td>\n",
       "      <td>0.542070</td>\n",
       "      <td>[TOWN HALL IWARA, METHODIST PRY. SCHOOL, AYETO...</td>\n",
       "    </tr>\n",
       "    <tr>\n",
       "      <th>2</th>\n",
       "      <td>METHODIST PRY. SCHOOL, AYETORO</td>\n",
       "      <td>7.846332</td>\n",
       "      <td>4.487902</td>\n",
       "      <td>83.655243</td>\n",
       "      <td>3.909974</td>\n",
       "      <td>0.391304</td>\n",
       "      <td>0.540153</td>\n",
       "      <td>[TOWN HALL IWARA, L.A. SCHOOL, IWIKUN, OPEN SP...</td>\n",
       "    </tr>\n",
       "    <tr>\n",
       "      <th>3</th>\n",
       "      <td>OPEN SPACE ODO-IWARA</td>\n",
       "      <td>7.540318</td>\n",
       "      <td>4.825199</td>\n",
       "      <td>72.520163</td>\n",
       "      <td>2.903522</td>\n",
       "      <td>56.653395</td>\n",
       "      <td>0.458908</td>\n",
       "      <td>[TOWN HALL IWARA, L.A. SCHOOL, IWIKUN, METHODI...</td>\n",
       "    </tr>\n",
       "    <tr>\n",
       "      <th>4</th>\n",
       "      <td>N.U.D PRY. SCHOL, IGANGAN</td>\n",
       "      <td>7.546745</td>\n",
       "      <td>3.788141</td>\n",
       "      <td>79.721411</td>\n",
       "      <td>7.547445</td>\n",
       "      <td>63.266423</td>\n",
       "      <td>0.467762</td>\n",
       "      <td>[TOWN HALL IWARA, L.A. SCHOOL, IWIKUN, METHODI...</td>\n",
       "    </tr>\n",
       "  </tbody>\n",
       "</table>\n",
       "</div>"
      ],
      "text/plain": [
       "                          PU-Name  Latitude  Longitude  APC_outlier  \\\n",
       "0                 TOWN HALL IWARA  7.466182   4.678075    53.480877   \n",
       "1             L.A. SCHOOL, IWIKUN  7.586975   4.629450    57.471698   \n",
       "2  METHODIST PRY. SCHOOL, AYETORO  7.846332   4.487902    83.655243   \n",
       "3            OPEN SPACE ODO-IWARA  7.540318   4.825199    72.520163   \n",
       "4       N.U.D PRY. SCHOL, IGANGAN  7.546745   3.788141    79.721411   \n",
       "\n",
       "   LP_outlier  PDP_outlier  NNPP_outlier  \\\n",
       "0  266.240694    98.483427      0.458440   \n",
       "1    4.108618    76.637940      0.542070   \n",
       "2    3.909974     0.391304      0.540153   \n",
       "3    2.903522    56.653395      0.458908   \n",
       "4    7.547445    63.266423      0.467762   \n",
       "\n",
       "                                     Neighbour_polls  \n",
       "0  [L.A. SCHOOL, IWIKUN, METHODIST PRY. SCHOOL, A...  \n",
       "1  [TOWN HALL IWARA, METHODIST PRY. SCHOOL, AYETO...  \n",
       "2  [TOWN HALL IWARA, L.A. SCHOOL, IWIKUN, OPEN SP...  \n",
       "3  [TOWN HALL IWARA, L.A. SCHOOL, IWIKUN, METHODI...  \n",
       "4  [TOWN HALL IWARA, L.A. SCHOOL, IWIKUN, METHODI...  "
      ]
     },
     "execution_count": 12,
     "metadata": {},
     "output_type": "execute_result"
    }
   ],
   "source": [
    "# Define the radius for neighbours (in kilometers)\n",
    "radius_km = 1.0\n",
    "\n",
    "# Create a list to store the outlier scores and neighbour information\n",
    "results = []\n",
    "\n",
    "# Iterate over each polling unit to calculate the outlier scores\n",
    "for index, row in data.iterrows():\n",
    "    # Find neighbouring polling units within the specified radius\n",
    "    neighbours = data[(dist_matrix[index] <= radius_km) & (data.index != index)]\n",
    "\n",
    "    # Calculate the outlier score for each party\n",
    "    apc_outlier = abs(row['APC'] - neighbours['APC'].mean()) if not neighbours.empty else 0\n",
    "    lp_outlier = abs(row['LP'] - neighbours['LP'].mean()) if not neighbours.empty else 0\n",
    "    pdp_outlier = abs(row['PDP'] - neighbours['PDP'].mean()) if not neighbours.empty else 0\n",
    "    nnpp_outlier = abs(row['NNPP'] - neighbours['NNPP'].mean()) if not neighbours.empty else 0\n",
    "\n",
    "    # Store the results\n",
    "    results.append({\n",
    "        'PU-Name': row['PU-Name'],\n",
    "        'Latitude': row['latitude'],\n",
    "        'Longitude': row['longitude'],\n",
    "        'APC_outlier': apc_outlier,\n",
    "        'LP_outlier': lp_outlier,\n",
    "        'PDP_outlier': pdp_outlier,\n",
    "        'NNPP_outlier': nnpp_outlier,\n",
    "        'Neighbour_polls': neighbours['PU-Name'].tolist()\n",
    "    })\n",
    "\n",
    "# Convert the results list to a DataFrame\n",
    "outlier_scores = pd.DataFrame(results)\n",
    "\n",
    "# Display the outlier scores\n",
    "outlier_scores.head()"
   ]
  },
  {
   "cell_type": "code",
   "execution_count": 13,
   "id": "319bf5d6-1a4a-4d5a-acde-31c53b8f693a",
   "metadata": {},
   "outputs": [],
   "source": [
    "outlier_scores.to_excel('Osunexcel2023.xlsx')"
   ]
  },
  {
   "cell_type": "code",
   "execution_count": 14,
   "id": "9b69e35e-8be7-4a1c-b221-a07e16733739",
   "metadata": {
    "scrolled": true
   },
   "outputs": [
    {
     "data": {
      "image/png": "[encoded data removed]",
      "text/plain": [
       "<Figure size 1200x1000 with 4 Axes>"
      ]
     },
     "metadata": {},
     "output_type": "display_data"
    }
   ],
   "source": [
    "# Set up the matplotlib figure\n",
    "fig, axs = plt.subplots(2, 2, figsize=(12, 10))\n",
    "\n",
    "# Plot each scatter plot\n",
    "sns.boxplot(ax=axs[0, 0], data=outlier_scores['APC_outlier'])\n",
    "axs[0, 0].set_title('APC_outlier')\n",
    "axs[0,0].set_ylabel('APC votes count')\n",
    "axs[0, 0].grid(True)\n",
    "\n",
    "sns.boxplot(ax=axs[0, 1], data=outlier_scores['LP_outlier'])\n",
    "axs[0, 1].set_title('LP_outlier')\n",
    "axs[0,1].set_ylabel('LP votes count')\n",
    "axs[0, 1].grid(True)\n",
    "\n",
    "sns.boxplot(ax=axs[1, 0], data=outlier_scores['PDP_outlier'])\n",
    "axs[1, 0].set_title('PDP_outlier')\n",
    "axs[1,0].set_ylabel('PDP votes count')\n",
    "axs[1, 0].grid(True)\n",
    "\n",
    "\n",
    "sns.boxplot(ax=axs[1, 1], data=outlier_scores['NNPP_outlier'])\n",
    "axs[1, 1].set_title('NNPP_outlier')\n",
    "axs[1,1].set_ylabel('NNPP votes count')\n",
    "axs[1, 1].grid(True)\n",
    "\n",
    "\n",
    "\n",
    "# Adjust the layout\n",
    "plt.tight_layout()\n",
    "\n",
    "plt.savefig('election_outliers.png')\n",
    "\n",
    "# Display the plots\n",
    "plt.show()\n",
    "\n"
   ]
  },
  {
   "cell_type": "markdown",
   "id": "a9a418c0-f3bb-41f8-b96d-1d32f8ece604",
   "metadata": {},
   "source": [
    " "
   ]
  },
  {
   "cell_type": "markdown",
   "id": "04d31cb3-aab4-4b52-9805-1c906d1cd223",
   "metadata": {},
   "source": [
    "- #### Sorting"
   ]
  },
  {
   "cell_type": "markdown",
   "id": "4670cd95-e7b8-4638-bcaf-9db348f28ce3",
   "metadata": {},
   "source": [
    "Let's sort our dataset to know the top three outlier places"
   ]
  },
  {
   "cell_type": "code",
   "execution_count": 15,
   "id": "3626b10d-297d-43c9-b0d7-e5b53ed878f1",
   "metadata": {},
   "outputs": [
    {
     "name": "stdout",
     "output_type": "stream",
     "text": [
      "\u001b[1mTop 3 APC Outliers:\u001b[0m\n"
     ]
    },
    {
     "data": {
      "text/html": [
       "<table border=\"1\" class=\"dataframe\">\n",
       "  <thead>\n",
       "    <tr style=\"text-align: right;\">\n",
       "      <th></th>\n",
       "      <th>PU-Name</th>\n",
       "      <th>Latitude</th>\n",
       "      <th>Longitude</th>\n",
       "      <th>APC_outlier</th>\n",
       "      <th>LP_outlier</th>\n",
       "      <th>PDP_outlier</th>\n",
       "      <th>NNPP_outlier</th>\n",
       "    </tr>\n",
       "  </thead>\n",
       "  <tbody>\n",
       "    <tr>\n",
       "      <th>261</th>\n",
       "      <td>L.A. SCHOOL, EESADEE</td>\n",
       "      <td>7.778738</td>\n",
       "      <td>4.582862</td>\n",
       "      <td>222.554931</td>\n",
       "      <td>6.914154</td>\n",
       "      <td>31.561063</td>\n",
       "      <td>0.459377</td>\n",
       "    </tr>\n",
       "    <tr>\n",
       "      <th>755</th>\n",
       "      <td>OGUNSUA GRAM. SCHOOL, ESUYARE</td>\n",
       "      <td>7.480880</td>\n",
       "      <td>4.525433</td>\n",
       "      <td>194.664457</td>\n",
       "      <td>36.134625</td>\n",
       "      <td>38.638450</td>\n",
       "      <td>0.458950</td>\n",
       "    </tr>\n",
       "    <tr>\n",
       "      <th>323</th>\n",
       "      <td>OPEN SPACE IN FRONT OF BAALE ILE ARANYIN( ARANYIN SQUARE</td>\n",
       "      <td>7.734928</td>\n",
       "      <td>4.443937</td>\n",
       "      <td>189.563042</td>\n",
       "      <td>6.897907</td>\n",
       "      <td>75.535988</td>\n",
       "      <td>0.459418</td>\n",
       "    </tr>\n",
       "  </tbody>\n",
       "</table>"
      ],
      "text/plain": [
       "<IPython.core.display.HTML object>"
      ]
     },
     "metadata": {},
     "output_type": "display_data"
    },
    {
     "data": {
      "text/html": [
       "<hr style=\"height:3px;border:none;color:#333;background-color:#333;\" />"
      ],
      "text/plain": [
       "<IPython.core.display.HTML object>"
      ]
     },
     "metadata": {},
     "output_type": "display_data"
    },
    {
     "name": "stdout",
     "output_type": "stream",
     "text": [
      "\u001b[1mTop 3 PDP Outliers:\u001b[0m\n"
     ]
    },
    {
     "data": {
      "text/html": [
       "<table border=\"1\" class=\"dataframe\">\n",
       "  <thead>\n",
       "    <tr style=\"text-align: right;\">\n",
       "      <th></th>\n",
       "      <th>PU-Name</th>\n",
       "      <th>Latitude</th>\n",
       "      <th>Longitude</th>\n",
       "      <th>APC_outlier</th>\n",
       "      <th>LP_outlier</th>\n",
       "      <th>PDP_outlier</th>\n",
       "      <th>NNPP_outlier</th>\n",
       "    </tr>\n",
       "  </thead>\n",
       "  <tbody>\n",
       "    <tr>\n",
       "      <th>337</th>\n",
       "      <td>OWODE COMM. PRY SCHOOL,</td>\n",
       "      <td>7.715233</td>\n",
       "      <td>4.486008</td>\n",
       "      <td>119.611111</td>\n",
       "      <td>140.187054</td>\n",
       "      <td>281.753313</td>\n",
       "      <td>1.542304</td>\n",
       "    </tr>\n",
       "    <tr>\n",
       "      <th>1964</th>\n",
       "      <td>ANUOLU JUNCTION</td>\n",
       "      <td>7.724950</td>\n",
       "      <td>4.442955</td>\n",
       "      <td>0.472718</td>\n",
       "      <td>10.117797</td>\n",
       "      <td>232.704742</td>\n",
       "      <td>0.458950</td>\n",
       "    </tr>\n",
       "    <tr>\n",
       "      <th>993</th>\n",
       "      <td>SECRETARIAT</td>\n",
       "      <td>8.011101</td>\n",
       "      <td>4.912681</td>\n",
       "      <td>46.702393</td>\n",
       "      <td>4.006764</td>\n",
       "      <td>229.962539</td>\n",
       "      <td>0.534860</td>\n",
       "    </tr>\n",
       "  </tbody>\n",
       "</table>"
      ],
      "text/plain": [
       "<IPython.core.display.HTML object>"
      ]
     },
     "metadata": {},
     "output_type": "display_data"
    },
    {
     "data": {
      "text/html": [
       "<hr style=\"height:3px;border:none;color:#333;background-color:#333;\" />"
      ],
      "text/plain": [
       "<IPython.core.display.HTML object>"
      ]
     },
     "metadata": {},
     "output_type": "display_data"
    },
    {
     "name": "stdout",
     "output_type": "stream",
     "text": [
      "\u001b[1mTop 3 LP Outliers:\u001b[0m\n"
     ]
    },
    {
     "data": {
      "text/html": [
       "<table border=\"1\" class=\"dataframe\">\n",
       "  <thead>\n",
       "    <tr style=\"text-align: right;\">\n",
       "      <th></th>\n",
       "      <th>PU-Name</th>\n",
       "      <th>Latitude</th>\n",
       "      <th>Longitude</th>\n",
       "      <th>APC_outlier</th>\n",
       "      <th>LP_outlier</th>\n",
       "      <th>PDP_outlier</th>\n",
       "      <th>NNPP_outlier</th>\n",
       "    </tr>\n",
       "  </thead>\n",
       "  <tbody>\n",
       "    <tr>\n",
       "      <th>465</th>\n",
       "      <td>BEULAH BAPT. SCHOOL, EJIGBO</td>\n",
       "      <td>7.907559</td>\n",
       "      <td>4.316765</td>\n",
       "      <td>96.596716</td>\n",
       "      <td>393.285274</td>\n",
       "      <td>97.671626</td>\n",
       "      <td>1.539251</td>\n",
       "    </tr>\n",
       "    <tr>\n",
       "      <th>0</th>\n",
       "      <td>TOWN HALL IWARA</td>\n",
       "      <td>7.466182</td>\n",
       "      <td>4.678075</td>\n",
       "      <td>53.480877</td>\n",
       "      <td>266.240694</td>\n",
       "      <td>98.483427</td>\n",
       "      <td>0.458440</td>\n",
       "    </tr>\n",
       "    <tr>\n",
       "      <th>5</th>\n",
       "      <td>APOSTOLIC PRY. SCHOOL, OKO-AGO</td>\n",
       "      <td>7.469135</td>\n",
       "      <td>4.542204</td>\n",
       "      <td>94.482917</td>\n",
       "      <td>192.214176</td>\n",
       "      <td>98.431413</td>\n",
       "      <td>0.458950</td>\n",
       "    </tr>\n",
       "  </tbody>\n",
       "</table>"
      ],
      "text/plain": [
       "<IPython.core.display.HTML object>"
      ]
     },
     "metadata": {},
     "output_type": "display_data"
    },
    {
     "data": {
      "text/html": [
       "<hr style=\"height:3px;border:none;color:#333;background-color:#333;\" />"
      ],
      "text/plain": [
       "<IPython.core.display.HTML object>"
      ]
     },
     "metadata": {},
     "output_type": "display_data"
    },
    {
     "name": "stdout",
     "output_type": "stream",
     "text": [
      "\u001b[1mTop 3 NNPC Outliers:\u001b[0m\n"
     ]
    },
    {
     "data": {
      "text/html": [
       "<table border=\"1\" class=\"dataframe\">\n",
       "  <thead>\n",
       "    <tr style=\"text-align: right;\">\n",
       "      <th></th>\n",
       "      <th>PU-Name</th>\n",
       "      <th>Latitude</th>\n",
       "      <th>Longitude</th>\n",
       "      <th>APC_outlier</th>\n",
       "      <th>LP_outlier</th>\n",
       "      <th>PDP_outlier</th>\n",
       "      <th>NNPP_outlier</th>\n",
       "    </tr>\n",
       "  </thead>\n",
       "  <tbody>\n",
       "    <tr>\n",
       "      <th>337</th>\n",
       "      <td>OWODE COMM. PRY SCHOOL,</td>\n",
       "      <td>7.715233</td>\n",
       "      <td>4.486008</td>\n",
       "      <td>119.611111</td>\n",
       "      <td>140.187054</td>\n",
       "      <td>281.753313</td>\n",
       "      <td>1.542304</td>\n",
       "    </tr>\n",
       "    <tr>\n",
       "      <th>1964</th>\n",
       "      <td>ANUOLU JUNCTION</td>\n",
       "      <td>7.724950</td>\n",
       "      <td>4.442955</td>\n",
       "      <td>0.472718</td>\n",
       "      <td>10.117797</td>\n",
       "      <td>232.704742</td>\n",
       "      <td>0.458950</td>\n",
       "    </tr>\n",
       "    <tr>\n",
       "      <th>993</th>\n",
       "      <td>SECRETARIAT</td>\n",
       "      <td>8.011101</td>\n",
       "      <td>4.912681</td>\n",
       "      <td>46.702393</td>\n",
       "      <td>4.006764</td>\n",
       "      <td>229.962539</td>\n",
       "      <td>0.534860</td>\n",
       "    </tr>\n",
       "  </tbody>\n",
       "</table>"
      ],
      "text/plain": [
       "<IPython.core.display.HTML object>"
      ]
     },
     "metadata": {},
     "output_type": "display_data"
    }
   ],
   "source": [
    "out = outlier_scores.drop(columns=['Neighbour_polls'])\n",
    "\n",
    "# Sort the dataset by the outlier scores for each party\n",
    "sorted_apc = out.sort_values(by='APC_outlier', ascending=False).head(3)\n",
    "sorted_lp = out.sort_values(by='LP_outlier', ascending=False).head(3)\n",
    "sorted_pdp = out.sort_values(by='PDP_outlier', ascending=False).head(3)\n",
    "sorted_nnpp = out.sort_values(by='NNPP_outlier', ascending=False).head(3)\n",
    "\n",
    "\n",
    "\n",
    "# Display the DataFrames\n",
    "print('\\033[1m' + 'Top 3 APC Outliers:' + '\\033[0m')\n",
    "display(HTML(sorted_apc.to_html()))\n",
    "display(HTML('<hr style=\"height:3px;border:none;color:#333;background-color:#333;\" />'))  # Horizontal line separator\n",
    "\n",
    "print('\\033[1m' + 'Top 3 PDP Outliers:' + '\\033[0m')\n",
    "display(HTML(sorted_pdp.to_html()))\n",
    "display(HTML('<hr style=\"height:3px;border:none;color:#333;background-color:#333;\" />'))  # Horizontal line separator\n",
    "\n",
    "print('\\033[1m' + 'Top 3 LP Outliers:' + '\\033[0m')\n",
    "display(HTML(sorted_lp.to_html()))\n",
    "display(HTML('<hr style=\"height:3px;border:none;color:#333;background-color:#333;\" />'))  # Horizontal line separator\n",
    "\n",
    "print('\\033[1m' + 'Top 3 NNPC Outliers:' + '\\033[0m')\n",
    "display(HTML(sorted_pdp.to_html()))"
   ]
  },
  {
   "cell_type": "code",
   "execution_count": null,
   "id": "15aeed17-9f56-4fde-b674-cc423f2d2604",
   "metadata": {},
   "outputs": [],
   "source": []
  },
  {
   "cell_type": "code",
   "execution_count": 16,
   "id": "1371edb5-995f-49c2-936c-32ad14bdf1e3",
   "metadata": {},
   "outputs": [],
   "source": [
    "sorted_apc = out.sort_values(by='APC_outlier', ascending=False)\n",
    "sorted_lp = out.sort_values(by='LP_outlier', ascending=False)\n",
    "sorted_pdp = out.sort_values(by='PDP_outlier', ascending=False)\n",
    "sorted_nnpp = out.sort_values(by='NNPP_outlier', ascending=False)"
   ]
  },
  {
   "cell_type": "code",
   "execution_count": 17,
   "id": "acced9bc-2da5-4d61-81d7-78948aafaf2c",
   "metadata": {},
   "outputs": [],
   "source": [
    "sorted_apc.to_excel('sorted_apc.xlsx')\n",
    "sorted_lp.to_excel('sorted_lp.xlsx')\n",
    "sorted_pdp.to_excel('sorted_pdp.xlsx')\n",
    "sorted_nnpp.to_excel('sorted_nnpp.xlsx')"
   ]
  },
  {
   "cell_type": "code",
   "execution_count": null,
   "id": "7c4e1a25-daf2-4a1c-adb0-9256ba34f7cb",
   "metadata": {},
   "outputs": [],
   "source": []
  }
 ],
 "metadata": {
  "kernelspec": {
   "display_name": "Python 3 (ipykernel)",
   "language": "python",
   "name": "python3"
  },
  "language_info": {
   "codemirror_mode": {
    "name": "ipython",
    "version": 3
   },
   "file_extension": ".py",
   "mimetype": "text/x-python",
   "name": "python",
   "nbconvert_exporter": "python",
   "pygments_lexer": "ipython3",
   "version": "3.8.18"
  }
 },
 "nbformat": 4,
 "nbformat_minor": 5
}
